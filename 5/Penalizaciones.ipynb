{
 "cells": [
  {
   "cell_type": "markdown",
   "id": "7474941d",
   "metadata": {},
   "source": [
    "# PENALIZACIONES L1 Y L2"
   ]
  },
  {
   "cell_type": "code",
   "execution_count": 18,
   "id": "97220c11",
   "metadata": {},
   "outputs": [],
   "source": [
    "import pandas as pd\n",
    "\n",
    "df = pd.read_csv(\"ABBREV.csv\")\n",
    "\n",
    "X = df[['Protein_(g)', 'Lipid_Tot_(g)', 'Carbohydrt_(g)']].values.tolist()\n",
    "y = df['Energ_Kcal'].tolist()\n",
    "\n",
    "def normalize(data):\n",
    "    mean = sum(data) / len(data)\n",
    "    std = (sum([(x - mean) ** 2 for x in data]) / len(data)) ** 0.5\n",
    "    return [(x - mean) / std for x in data]\n",
    "\n",
    "# Normalizar cada columna de X y la variable objetivo y\n",
    "X_normalized = [[normalize(col) for col in zip(*X)]]\n",
    "X_normalized = list(zip(*X_normalized[0]))  # Trasponer la lista\n",
    "y_normalized = normalize(y)\n"
   ]
  },
  {
   "cell_type": "markdown",
   "id": "00352c8f",
   "metadata": {},
   "source": [
    "### Penalización L2 (Ridge)"
   ]
  },
  {
   "cell_type": "code",
   "execution_count": 19,
   "id": "84dc83b4",
   "metadata": {},
   "outputs": [],
   "source": [
    "def ridge_penalty(w, X, y, alpha):\n",
    "    m = len(y)\n",
    "    predictions = [sum([w_j * x_j for w_j, x_j in zip(w, x)]) for x in X]\n",
    "    error = [(p - y_i) ** 2 for p, y_i in zip(predictions, y)]\n",
    "    cost = (1 / m) * sum(error) + alpha * sum([w_j ** 2 for w_j in w])  # Penalización L2\n",
    "    return cost\n"
   ]
  },
  {
   "cell_type": "code",
   "execution_count": 20,
   "id": "0afa07bd",
   "metadata": {},
   "outputs": [],
   "source": [
    "def gradient_descent_ridge(X, y, alpha, learning_rate, epochs):\n",
    "    m = len(y)\n",
    "    n = len(X[0])\n",
    "    w = [0] * n  # Inicializar pesos a 0\n",
    "    for epoch in range(epochs):\n",
    "        gradients = [0] * n\n",
    "        for i in range(m):\n",
    "            prediction = sum([w_j * X[i][j] for j, w_j in enumerate(w)])\n",
    "            error = prediction - y[i]\n",
    "            for j in range(n):\n",
    "                gradients[j] += (2/m) * error * X[i][j]\n",
    "        w = [w_j - learning_rate * (grad + 2 * alpha * w_j) for w_j, grad in zip(w, gradients)]\n",
    "    return w\n"
   ]
  },
  {
   "cell_type": "markdown",
   "id": "ebb18e1c",
   "metadata": {},
   "source": [
    "### Penalización L1 (Lasso)"
   ]
  },
  {
   "cell_type": "code",
   "execution_count": 21,
   "id": "f8b4de88",
   "metadata": {},
   "outputs": [],
   "source": [
    "def lasso_penalty(w, X, y, alpha):\n",
    "    m = len(y)\n",
    "    predictions = [sum([w_j * x_j for w_j, x_j in zip(w, x)]) for x in X]\n",
    "    error = [(p - y_i) ** 2 for p, y_i in zip(predictions, y)]\n",
    "    cost = (1 / m) * sum(error) + alpha * sum([abs(w_j) for w_j in w])  # Penalización L1\n",
    "    return cost"
   ]
  },
  {
   "cell_type": "code",
   "execution_count": 22,
   "id": "16b9b256",
   "metadata": {},
   "outputs": [],
   "source": [
    "\n",
    "def gradient_descent_lasso(X, y, alpha, learning_rate, epochs):\n",
    "    m = len(y)\n",
    "    n = len(X[0])\n",
    "    w = [0] * n  # Inicializar pesos a 0\n",
    "    for epoch in range(epochs):\n",
    "        gradients = [0] * n\n",
    "        for i in range(m):\n",
    "            prediction = sum([w_j * X[i][j] for j, w_j in enumerate(w)])\n",
    "            error = prediction - y[i]\n",
    "            for j in range(n):\n",
    "                gradients[j] += (2/m) * error * X[i][j]\n",
    "        w = [w_j - learning_rate * (grad + alpha * (1 if w_j > 0 else -1)) for w_j, grad in zip(w, gradients)]\n",
    "    return w"
   ]
  },
  {
   "cell_type": "code",
   "execution_count": null,
   "id": "549d9e1c",
   "metadata": {},
   "outputs": [],
   "source": [
    "# Parámetros para el descenso de gradiente\n",
    "alpha = 0.1  # Factor de penalización\n",
    "learning_rate = 0.01\n",
    "epochs = 1000\n",
    "\n",
    "\n",
    "w_ridge = gradient_descent_ridge(X_normalized, y_normalized, alpha, learning_rate, epochs)\n",
    "\n",
    "\n",
    "w_lasso = gradient_descent_lasso(X_normalized, y_normalized, alpha, learning_rate, epochs)\n",
    "\n",
    "weights_df = pd.DataFrame({\n",
    "    'Característica': ['Protein_(g)', 'Lipid_Tot_(g)', 'Carbohydrt_(g)'],\n",
    "    'Peso_L2_Ridge': w_ridge,\n",
    "    'Peso_L1_Lasso': w_lasso\n",
    "})\n",
    "\n",
    "# Mostrar los resultados\n",
    "weights_df"
   ]
  }
 ],
 "metadata": {
  "kernelspec": {
   "display_name": "Artificial_Intelligence",
   "language": "python",
   "name": "artificial_intelligence"
  },
  "language_info": {
   "codemirror_mode": {
    "name": "ipython",
    "version": 3
   },
   "file_extension": ".py",
   "mimetype": "text/x-python",
   "name": "python",
   "nbconvert_exporter": "python",
   "pygments_lexer": "ipython3",
   "version": "3.12.4"
  }
 },
 "nbformat": 4,
 "nbformat_minor": 5
}
