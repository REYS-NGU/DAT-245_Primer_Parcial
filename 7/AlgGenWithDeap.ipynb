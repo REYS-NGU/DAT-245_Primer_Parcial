{
 "cells": [
  {
   "cell_type": "markdown",
   "id": "7474941d",
   "metadata": {},
   "source": [
    "# **ALGORITMO GENETICO CON DEAP**\n",
    "## Función Objetivo\n",
    "\n",
    "La función objetivo que se optimizará es la siguiente:\n",
    "\n",
    "$$\n",
    "f(x) = (x^{2x}) - 1\n",
    "$$\n"
   ]
  },
  {
   "cell_type": "code",
   "execution_count": 6,
   "id": "97220c11",
   "metadata": {},
   "outputs": [],
   "source": [
    "import array\n",
    "import random\n",
    "import numpy\n",
    "\n",
    "from deap import algorithms\n",
    "from deap import base\n",
    "from deap import creator\n",
    "from deap import tools"
   ]
  },
  {
   "cell_type": "markdown",
   "id": "d6337e43",
   "metadata": {},
   "source": [
    "### En esta parte se coloca si se maximizará o minimizará"
   ]
  },
  {
   "cell_type": "code",
   "execution_count": 7,
   "id": "32a2fe64",
   "metadata": {},
   "outputs": [],
   "source": [
    "creator.create(\"FitnessMax\", base.Fitness, weights=(1.0,))  # Maximizar\n",
    "creator.create(\"Individual\", array.array, typecode=\"b\", fitness=creator.FitnessMax)\n",
    "\n",
    "toolbox = base.Toolbox()\n",
    "\n",
    "toolbox.register(\"attr_bool\", random.randint, 0, 1)\n",
    "\n",
    "\n",
    "toolbox.register(\"individual\", tools.initRepeat, creator.Individual, toolbox.attr_bool, 5)  # Individuo con 5 bits\n",
    "toolbox.register(\"population\", tools.initRepeat, list, toolbox.individual)  # Población de individuos\n",
    "\n",
    "# Función objetivo\n",
    "def f(x):\n",
    "    if x == 0:\n",
    "        return 1\n",
    "    return (x ** (2 * x)) - 1\n",
    "\n",
    "# Función de evaluación\n",
    "def evalOneMax(individual):\n",
    "    numeroDecimal = int(\"\".join(map(str, individual)), 2)\n",
    "    return (f(numeroDecimal),)\n",
    "\n",
    "# Registrar la función de evaluación\n",
    "toolbox.register(\"evaluate\", evalOneMax)\n",
    "\n",
    "# Operadores genéticos\n",
    "toolbox.register(\"mate\", tools.cxTwoPoint)  \n",
    "toolbox.register(\"mutate\", tools.mutFlipBit, indpb=0.05)  \n",
    "toolbox.register(\"select\", tools.selTournament, tournsize=3)"
   ]
  },
  {
   "cell_type": "markdown",
   "id": "866c1fe5",
   "metadata": {},
   "source": [
    "### Ejecución"
   ]
  },
  {
   "cell_type": "code",
   "execution_count": 8,
   "id": "6b94be5b",
   "metadata": {},
   "outputs": [
    {
     "name": "stdout",
     "output_type": "stream",
     "text": [
      "gen\tnevals\tavg        \tstd        \tmin\tmax        \n",
      "0  \t15    \t7.32548e+79\t2.74042e+80\t15 \t1.09863e+81\n",
      "1  \t5     \t4.39607e+83\t1.64457e+84\t0  \t6.59301e+84\n",
      "2  \t8     \t2.82784e+87\t1.05737e+88\t8.14027e+22\t4.23912e+88\n",
      "3  \t10    \t3.88504e+91\t9.90411e+91\t1.77885e+66\t2.91357e+92\n",
      "4  \t6     \t9.71274e+91\t1.37341e+92\t6.59301e+84\t2.91357e+92\n",
      "5  \t6     \t1.94243e+92\t1.37339e+92\t6.59301e+84\t2.91357e+92\n",
      "6  \t8     \t2.91357e+92\t0          \t2.91357e+92\t2.91357e+92\n",
      "7  \t7     \t2.71933e+92\t7.26771e+91\t6.59301e+84\t2.91357e+92\n",
      "8  \t11    \t2.91357e+92\t0          \t2.91357e+92\t2.91357e+92\n",
      "9  \t9     \t2.91357e+92\t0          \t2.91357e+92\t2.91357e+92\n",
      "10 \t6     \t2.91357e+92\t0          \t2.91357e+92\t2.91357e+92\n",
      "11 \t4     \t2.91357e+92\t0          \t2.91357e+92\t2.91357e+92\n",
      "12 \t8     \t2.91357e+92\t0          \t2.91357e+92\t2.91357e+92\n",
      "\n",
      "Mejor individuo:\n",
      "Individuo: Individual('b', [1, 1, 1, 1, 1])\n",
      "Fitness del mejor individuo: 2.913567055049513e+92\n"
     ]
    }
   ],
   "source": [
    "def main():\n",
    "    random.seed(60)\n",
    "\n",
    "    pop = toolbox.population(n=15)\n",
    "    hof = tools.HallOfFame(1) \n",
    "    stats = tools.Statistics(lambda ind: ind.fitness.values)\n",
    "    stats.register(\"avg\", numpy.mean)\n",
    "    stats.register(\"std\", numpy.std)\n",
    "    stats.register(\"min\", numpy.min)\n",
    "    stats.register(\"max\", numpy.max)\n",
    "\n",
    "    pop, log = algorithms.eaSimple(\n",
    "        pop,\n",
    "        toolbox,\n",
    "        cxpb=0.5,  # Probabilidad de cruce\n",
    "        mutpb=0.2,  # Probabilidad de mutación\n",
    "        ngen=12,  # Número de generaciones\n",
    "        stats=stats,\n",
    "        halloffame=hof,\n",
    "        verbose=True,\n",
    "    )\n",
    "\n",
    "    print(\"\\nMejor individuo:\")\n",
    "    print(f\"Individuo: {hof[0]}\")\n",
    "    print(f\"Fitness del mejor individuo: {hof[0].fitness.values[0]}\")\n",
    "\n",
    "    return pop, log, hof\n",
    "\n",
    "if __name__ == \"__main__\":\n",
    "    main()"
   ]
  }
 ],
 "metadata": {
  "kernelspec": {
   "display_name": "Artificial_Intelligence",
   "language": "python",
   "name": "artificial_intelligence"
  },
  "language_info": {
   "codemirror_mode": {
    "name": "ipython",
    "version": 3
   },
   "file_extension": ".py",
   "mimetype": "text/x-python",
   "name": "python",
   "nbconvert_exporter": "python",
   "pygments_lexer": "ipython3",
   "version": "3.12.4"
  }
 },
 "nbformat": 4,
 "nbformat_minor": 5
}
